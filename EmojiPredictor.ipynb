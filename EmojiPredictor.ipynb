{
 "cells": [
  {
   "cell_type": "code",
   "execution_count": 1,
   "metadata": {},
   "outputs": [],
   "source": [
    "#importing libraries\n",
    "\n",
    "import emoji"
   ]
  },
  {
   "cell_type": "code",
   "execution_count": 4,
   "metadata": {},
   "outputs": [
    {
     "name": "stdout",
     "output_type": "stream",
     "text": [
      "<class 'str'>\n",
      "<class 'dict'>\n"
     ]
    }
   ],
   "source": [
    "#checking the classes\n",
    "\n",
    "print(type(emoji.emojize(\":angry_face:\")))\n",
    "print(type(emoji.UNICODE_EMOJI))"
   ]
  },
  {
   "cell_type": "code",
   "execution_count": 5,
   "metadata": {},
   "outputs": [
    {
     "name": "stdout",
     "output_type": "stream",
     "text": [
      "😠\n",
      "👌🏻\n"
     ]
    }
   ],
   "source": [
    "#printing some emojis\n",
    "\n",
    "print(emoji.emojize(\":angry_face:\"))\n",
    "print(emoji.emojize(\":OK_hand_light_skin_tone:\"))"
   ]
  },
  {
   "cell_type": "code",
   "execution_count": 6,
   "metadata": {},
   "outputs": [],
   "source": [
    "#importing pandas library\n",
    "\n",
    "import pandas as pd"
   ]
  },
  {
   "cell_type": "code",
   "execution_count": 7,
   "metadata": {},
   "outputs": [],
   "source": [
    "#reading csv file\n",
    "\n",
    "data = pd.read_csv(\"train_emoji.csv\",header=None)"
   ]
  },
  {
   "cell_type": "code",
   "execution_count": 8,
   "metadata": {},
   "outputs": [
    {
     "data": {
      "text/html": [
       "<div>\n",
       "<style scoped>\n",
       "    .dataframe tbody tr th:only-of-type {\n",
       "        vertical-align: middle;\n",
       "    }\n",
       "\n",
       "    .dataframe tbody tr th {\n",
       "        vertical-align: top;\n",
       "    }\n",
       "\n",
       "    .dataframe thead th {\n",
       "        text-align: right;\n",
       "    }\n",
       "</style>\n",
       "<table border=\"1\" class=\"dataframe\">\n",
       "  <thead>\n",
       "    <tr style=\"text-align: right;\">\n",
       "      <th></th>\n",
       "      <th>0</th>\n",
       "      <th>1</th>\n",
       "      <th>2</th>\n",
       "      <th>3</th>\n",
       "    </tr>\n",
       "  </thead>\n",
       "  <tbody>\n",
       "    <tr>\n",
       "      <th>0</th>\n",
       "      <td>never talk to me again</td>\n",
       "      <td>3</td>\n",
       "      <td>NaN</td>\n",
       "      <td>NaN</td>\n",
       "    </tr>\n",
       "    <tr>\n",
       "      <th>1</th>\n",
       "      <td>I am proud of your achievements</td>\n",
       "      <td>2</td>\n",
       "      <td>NaN</td>\n",
       "      <td>NaN</td>\n",
       "    </tr>\n",
       "    <tr>\n",
       "      <th>2</th>\n",
       "      <td>It is the worst day in my life</td>\n",
       "      <td>3</td>\n",
       "      <td>NaN</td>\n",
       "      <td>NaN</td>\n",
       "    </tr>\n",
       "    <tr>\n",
       "      <th>3</th>\n",
       "      <td>Miss you so much</td>\n",
       "      <td>0</td>\n",
       "      <td>NaN</td>\n",
       "      <td>[0]</td>\n",
       "    </tr>\n",
       "    <tr>\n",
       "      <th>4</th>\n",
       "      <td>food is life</td>\n",
       "      <td>4</td>\n",
       "      <td>NaN</td>\n",
       "      <td>NaN</td>\n",
       "    </tr>\n",
       "    <tr>\n",
       "      <th>5</th>\n",
       "      <td>I love you mum</td>\n",
       "      <td>0</td>\n",
       "      <td>NaN</td>\n",
       "      <td>NaN</td>\n",
       "    </tr>\n",
       "    <tr>\n",
       "      <th>6</th>\n",
       "      <td>Stop saying bullshit</td>\n",
       "      <td>3</td>\n",
       "      <td>NaN</td>\n",
       "      <td>NaN</td>\n",
       "    </tr>\n",
       "    <tr>\n",
       "      <th>7</th>\n",
       "      <td>congratulations on your acceptance</td>\n",
       "      <td>2</td>\n",
       "      <td>NaN</td>\n",
       "      <td>NaN</td>\n",
       "    </tr>\n",
       "    <tr>\n",
       "      <th>8</th>\n",
       "      <td>The assignment is too long</td>\n",
       "      <td>3</td>\n",
       "      <td>NaN</td>\n",
       "      <td>NaN</td>\n",
       "    </tr>\n",
       "    <tr>\n",
       "      <th>9</th>\n",
       "      <td>I want to go play</td>\n",
       "      <td>1</td>\n",
       "      <td>NaN</td>\n",
       "      <td>[3]</td>\n",
       "    </tr>\n",
       "  </tbody>\n",
       "</table>\n",
       "</div>"
      ],
      "text/plain": [
       "                                    0  1   2     3\n",
       "0              never talk to me again  3 NaN   NaN\n",
       "1     I am proud of your achievements  2 NaN   NaN\n",
       "2      It is the worst day in my life  3 NaN   NaN\n",
       "3                    Miss you so much  0 NaN   [0]\n",
       "4                        food is life  4 NaN   NaN\n",
       "5                      I love you mum  0 NaN   NaN\n",
       "6                Stop saying bullshit  3 NaN   NaN\n",
       "7  congratulations on your acceptance  2 NaN   NaN\n",
       "8         The assignment is too long   3 NaN   NaN\n",
       "9                   I want to go play  1 NaN   [3]"
      ]
     },
     "execution_count": 8,
     "metadata": {},
     "output_type": "execute_result"
    }
   ],
   "source": [
    "#getting first 10 rows\n",
    "\n",
    "data.head(n=10)"
   ]
  },
  {
   "cell_type": "code",
   "execution_count": 9,
   "metadata": {},
   "outputs": [],
   "source": [
    "#creating our dictionary\n",
    "\n",
    "emoji_dict = {\n",
    "    0:\":beating_heart:\",\n",
    "    1:\":baseball:\",\n",
    "    2:\":beaming_face_with_smiling_eyes:\",\n",
    "    3:\":disappointed_face:\",\n",
    "    4:\":fork_and_knife:\"    \n",
    "}"
   ]
  },
  {
   "cell_type": "code",
   "execution_count": 10,
   "metadata": {},
   "outputs": [
    {
     "name": "stdout",
     "output_type": "stream",
     "text": [
      "💓\n",
      "⚾\n",
      "😁\n",
      "😞\n",
      "🍴\n"
     ]
    }
   ],
   "source": [
    "#printing the emojis from our emoji dictionary\n",
    "\n",
    "for ix in emoji_dict.values():\n",
    "    print(emoji.emojize(ix))"
   ]
  },
  {
   "cell_type": "code",
   "execution_count": 11,
   "metadata": {},
   "outputs": [],
   "source": [
    "#assigning the 0th column to 'X_train' variable\n",
    "\n",
    "X_train = data[0]\n",
    "\n",
    "#assigning the 1st column to 'Y_train' variable\n",
    "Y_train = data[1]"
   ]
  },
  {
   "cell_type": "code",
   "execution_count": 12,
   "metadata": {},
   "outputs": [
    {
     "name": "stdout",
     "output_type": "stream",
     "text": [
      "(132,)\n",
      "(132,)\n"
     ]
    }
   ],
   "source": [
    "#printing the shapes\n",
    "\n",
    "print(X_train.shape)\n",
    "print(Y_train.shape)"
   ]
  },
  {
   "cell_type": "code",
   "execution_count": 15,
   "metadata": {},
   "outputs": [
    {
     "name": "stdout",
     "output_type": "stream",
     "text": [
      "never talk to me again\n",
      "3\n"
     ]
    }
   ],
   "source": [
    "#printing the values\n",
    "print(X_train[0])\n",
    "print(Y_train[0])"
   ]
  },
  {
   "cell_type": "code",
   "execution_count": 16,
   "metadata": {},
   "outputs": [
    {
     "name": "stdout",
     "output_type": "stream",
     "text": [
      "never talk to me again\n",
      "😞\n"
     ]
    }
   ],
   "source": [
    "#printing value with corresponding emoji\n",
    "\n",
    "print(X_train[0])\n",
    "print(emoji.emojize(emoji_dict[Y_train[0]]))"
   ]
  },
  {
   "cell_type": "code",
   "execution_count": 18,
   "metadata": {},
   "outputs": [],
   "source": [
    "#using Standford Glove Training Model\n",
    "\n",
    "def read_glove_vecs(glove_file):\n",
    "    with open(glove_file, 'r',encoding='utf8') as f:\n",
    "        words = set()\n",
    "        word_to_vec_map = {}\n",
    "        for line in f:\n",
    "            line = line.strip().split()\n",
    "            curr_word = line[0]\n",
    "            words.add(curr_word)\n",
    "            word_to_vec_map[curr_word] = np.array(line[1:], dtype=np.float64)\n",
    "        \n",
    "        i = 1\n",
    "        words_to_index = {}\n",
    "        index_to_words = {}\n",
    "        for w in sorted(words):\n",
    "            words_to_index[w] = i\n",
    "            index_to_words[i] = w\n",
    "            i = i + 1\n",
    "    return words_to_index, index_to_words, word_to_vec_map"
   ]
  },
  {
   "cell_type": "code",
   "execution_count": 22,
   "metadata": {},
   "outputs": [],
   "source": [
    "#including the file\n",
    "\n",
    "words_to_index, index_to_words, word_to_vec_map = read_glove_vecs(\"glove.6B.50d.txt\")"
   ]
  },
  {
   "cell_type": "code",
   "execution_count": 25,
   "metadata": {},
   "outputs": [
    {
     "data": {
      "text/plain": [
       "(50,)"
      ]
     },
     "execution_count": 25,
     "metadata": {},
     "output_type": "execute_result"
    }
   ],
   "source": [
    "#checking the shape of any random word (say \"happy\")\n",
    "\n",
    "word_to_vec_map[\"happy\"].shape"
   ]
  },
  {
   "cell_type": "code",
   "execution_count": 26,
   "metadata": {},
   "outputs": [],
   "source": [
    "#importing numpy library\n",
    "\n",
    "import numpy as np"
   ]
  },
  {
   "cell_type": "code",
   "execution_count": 27,
   "metadata": {},
   "outputs": [],
   "source": [
    "#calculating the average vector for a sentence\n",
    "\n",
    "def avg_vector(words):\n",
    "    \n",
    "    ans = word_to_vec_map[words[0]]\n",
    "   # print(ans)\n",
    "    for i in range(1,len(words)):\n",
    "        ans = np.add(ans,word_to_vec_map[words[i]])\n",
    "    ans = ans/float(len(words))\n",
    "    return ans"
   ]
  },
  {
   "cell_type": "code",
   "execution_count": 30,
   "metadata": {},
   "outputs": [
    {
     "name": "stdout",
     "output_type": "stream",
     "text": [
      "[ 9.718460e-02  1.743740e-02  5.284300e-02 -4.368060e-01  2.756132e-01\n",
      " -1.426688e-01 -6.120520e-01  4.716140e-01 -6.059740e-01  1.566594e-01\n",
      " -8.662400e-02  4.906620e-01 -6.480320e-01 -1.612960e-01  8.897200e-01\n",
      "  4.867520e-01  4.601260e-02 -8.363342e-02 -2.288840e-01 -4.151500e-01\n",
      " -1.140000e-02  6.407600e-01  5.954280e-01  1.780868e-01  7.128668e-01\n",
      " -2.072760e+00 -3.161338e-01  1.869920e-01  6.583040e-01 -6.969300e-01\n",
      "  3.172380e+00  5.411100e-01 -5.941440e-01 -3.028740e-01 -2.285386e-01\n",
      " -2.899120e-01  2.006040e-01  1.053064e-01 -3.933000e-02 -4.483020e-01\n",
      " -1.353596e-01 -2.031200e-03 -2.454976e-01  1.305460e-01 -1.976000e-02\n",
      "  2.025340e-02 -1.199070e-01 -2.522034e-01 -2.197784e-01  3.076060e-01]\n"
     ]
    }
   ],
   "source": [
    "#printing the average vector from \"X_train\" variable\n",
    "\n",
    "ans = avg_vector(X_train[0])\n",
    "print(ans)"
   ]
  },
  {
   "cell_type": "code",
   "execution_count": 31,
   "metadata": {},
   "outputs": [
    {
     "name": "stdout",
     "output_type": "stream",
     "text": [
      "(132, 50)\n",
      "[[ 0.0971846   0.0174374   0.052843   ... -0.2522034  -0.2197784\n",
      "   0.307606  ]\n",
      " [ 0.00563117  0.59711333 -0.13939717 ... -0.06701233 -0.025773\n",
      "   0.32180167]\n",
      " [ 0.27343125  0.33763875 -0.33053875 ... -0.335001    0.06524875\n",
      "  -0.04257963]\n",
      " ...\n",
      " [ 0.29220562  0.1533622  -0.015246   ...  0.032272    0.1313342\n",
      "   0.472114  ]\n",
      " [-0.00701397  0.54196333 -0.19225433 ... -0.80106333 -0.20057967\n",
      "   0.78087   ]\n",
      " [-0.1149985   0.6452325  -0.39727    ...  0.142175   -0.2057708\n",
      "   0.5231    ]]\n"
     ]
    }
   ],
   "source": [
    "#similarly creating the average vector for all the rows of \"X_train\" variable\n",
    "\n",
    "X_numbers = np.zeros((132,50))\n",
    "\n",
    "for i in range(X_train.shape[0]):\n",
    "    X_numbers[i] = avg_vector(X_train[i])\n",
    "\n",
    "print(X_numbers.shape)\n",
    "print(X_numbers)"
   ]
  },
  {
   "cell_type": "code",
   "execution_count": 34,
   "metadata": {},
   "outputs": [],
   "source": [
    "#importing keras library\n",
    "\n",
    "from keras.models import Sequential\n",
    "from keras.layers import Dense,Input,Activation\n",
    "from keras.utils import to_categorical"
   ]
  },
  {
   "cell_type": "code",
   "execution_count": 35,
   "metadata": {},
   "outputs": [],
   "source": [
    "model = Sequential()"
   ]
  },
  {
   "cell_type": "code",
   "execution_count": 36,
   "metadata": {},
   "outputs": [],
   "source": [
    "#building neural network\n",
    "\n",
    "model.add(Dense(10, activation='relu', input_shape=(50,)))\n",
    "model.add(Dense(5, activation='softmax'))\n",
    "model.compile(optimizer='adam',\n",
    "              loss='categorical_crossentropy',\n",
    "              metrics=['accuracy'])"
   ]
  },
  {
   "cell_type": "code",
   "execution_count": 40,
   "metadata": {},
   "outputs": [
    {
     "name": "stdout",
     "output_type": "stream",
     "text": [
      "(132,)\n",
      "(132, 5)\n"
     ]
    }
   ],
   "source": [
    "#printing the shape of \"Y_train\" variable\n",
    "\n",
    "print(Y_train.shape)\n",
    "\n",
    "#defining the onehot means setting that correct emoji to 1 from the list of our emoji dictionary\n",
    "\n",
    "Y_onehot = to_categorical(Y_train)\n",
    "\n",
    "#printing the shape of \"Y_onehot\" variable\n",
    "\n",
    "print(Y_onehot.shape)"
   ]
  },
  {
   "cell_type": "code",
   "execution_count": 41,
   "metadata": {},
   "outputs": [
    {
     "name": "stdout",
     "output_type": "stream",
     "text": [
      "3\n",
      "[0. 0. 0. 1. 0.]\n"
     ]
    }
   ],
   "source": [
    "#printing the values of \"Y_train\" and \"Y_onehot\" variable\n",
    "\n",
    "print(Y_train[0])\n",
    "print(Y_onehot[0])"
   ]
  },
  {
   "cell_type": "code",
   "execution_count": 42,
   "metadata": {},
   "outputs": [
    {
     "name": "stdout",
     "output_type": "stream",
     "text": [
      "Epoch 1/100\n",
      "132/132 [==============================] - 0s 2ms/step - loss: 1.8442 - acc: 0.1515\n",
      "Epoch 2/100\n",
      "132/132 [==============================] - 0s 83us/step - loss: 1.7950 - acc: 0.1591\n",
      "Epoch 3/100\n",
      "132/132 [==============================] - 0s 91us/step - loss: 1.7585 - acc: 0.1667\n",
      "Epoch 4/100\n",
      "132/132 [==============================] - 0s 60us/step - loss: 1.7259 - acc: 0.2045\n",
      "Epoch 5/100\n",
      "132/132 [==============================] - 0s 76us/step - loss: 1.7008 - acc: 0.2121\n",
      "Epoch 6/100\n",
      "132/132 [==============================] - 0s 76us/step - loss: 1.6762 - acc: 0.2197\n",
      "Epoch 7/100\n",
      "132/132 [==============================] - 0s 83us/step - loss: 1.6556 - acc: 0.2348\n",
      "Epoch 8/100\n",
      "132/132 [==============================] - 0s 83us/step - loss: 1.6373 - acc: 0.2348\n",
      "Epoch 9/100\n",
      "132/132 [==============================] - 0s 68us/step - loss: 1.6218 - acc: 0.2424\n",
      "Epoch 10/100\n",
      "132/132 [==============================] - 0s 91us/step - loss: 1.6051 - acc: 0.2803\n",
      "Epoch 11/100\n",
      "132/132 [==============================] - 0s 76us/step - loss: 1.5914 - acc: 0.2879\n",
      "Epoch 12/100\n",
      "132/132 [==============================] - 0s 83us/step - loss: 1.5775 - acc: 0.3258\n",
      "Epoch 13/100\n",
      "132/132 [==============================] - 0s 53us/step - loss: 1.5649 - acc: 0.3333\n",
      "Epoch 14/100\n",
      "132/132 [==============================] - 0s 91us/step - loss: 1.5512 - acc: 0.3409\n",
      "Epoch 15/100\n",
      "132/132 [==============================] - 0s 98us/step - loss: 1.5391 - acc: 0.3485\n",
      "Epoch 16/100\n",
      "132/132 [==============================] - 0s 68us/step - loss: 1.5273 - acc: 0.3409\n",
      "Epoch 17/100\n",
      "132/132 [==============================] - 0s 113us/step - loss: 1.5141 - acc: 0.3409\n",
      "Epoch 18/100\n",
      "132/132 [==============================] - 0s 91us/step - loss: 1.4999 - acc: 0.3485\n",
      "Epoch 19/100\n",
      "132/132 [==============================] - 0s 53us/step - loss: 1.4863 - acc: 0.3485\n",
      "Epoch 20/100\n",
      "132/132 [==============================] - 0s 83us/step - loss: 1.4746 - acc: 0.3712\n",
      "Epoch 21/100\n",
      "132/132 [==============================] - 0s 76us/step - loss: 1.4635 - acc: 0.3636\n",
      "Epoch 22/100\n",
      "132/132 [==============================] - 0s 68us/step - loss: 1.4526 - acc: 0.3636\n",
      "Epoch 23/100\n",
      "132/132 [==============================] - 0s 98us/step - loss: 1.4420 - acc: 0.3788\n",
      "Epoch 24/100\n",
      "132/132 [==============================] - 0s 98us/step - loss: 1.4301 - acc: 0.3939\n",
      "Epoch 25/100\n",
      "132/132 [==============================] - 0s 83us/step - loss: 1.4193 - acc: 0.3864\n",
      "Epoch 26/100\n",
      "132/132 [==============================] - 0s 68us/step - loss: 1.4081 - acc: 0.3864\n",
      "Epoch 27/100\n",
      "132/132 [==============================] - 0s 83us/step - loss: 1.3956 - acc: 0.3788\n",
      "Epoch 28/100\n",
      "132/132 [==============================] - 0s 68us/step - loss: 1.3844 - acc: 0.3864\n",
      "Epoch 29/100\n",
      "132/132 [==============================] - 0s 68us/step - loss: 1.3721 - acc: 0.3864\n",
      "Epoch 30/100\n",
      "132/132 [==============================] - 0s 68us/step - loss: 1.3605 - acc: 0.4015\n",
      "Epoch 31/100\n",
      "132/132 [==============================] - 0s 76us/step - loss: 1.3484 - acc: 0.4167\n",
      "Epoch 32/100\n",
      "132/132 [==============================] - 0s 83us/step - loss: 1.3377 - acc: 0.4242\n",
      "Epoch 33/100\n",
      "132/132 [==============================] - 0s 68us/step - loss: 1.3262 - acc: 0.4318\n",
      "Epoch 34/100\n",
      "132/132 [==============================] - 0s 60us/step - loss: 1.3145 - acc: 0.4470\n",
      "Epoch 35/100\n",
      "132/132 [==============================] - 0s 83us/step - loss: 1.3037 - acc: 0.4470\n",
      "Epoch 36/100\n",
      "132/132 [==============================] - 0s 60us/step - loss: 1.2918 - acc: 0.4621\n",
      "Epoch 37/100\n",
      "132/132 [==============================] - 0s 98us/step - loss: 1.2809 - acc: 0.4697\n",
      "Epoch 38/100\n",
      "132/132 [==============================] - 0s 60us/step - loss: 1.2691 - acc: 0.4621\n",
      "Epoch 39/100\n",
      "132/132 [==============================] - 0s 76us/step - loss: 1.2582 - acc: 0.5000\n",
      "Epoch 40/100\n",
      "132/132 [==============================] - 0s 53us/step - loss: 1.2465 - acc: 0.5076\n",
      "Epoch 41/100\n",
      "132/132 [==============================] - 0s 60us/step - loss: 1.2352 - acc: 0.5076\n",
      "Epoch 42/100\n",
      "132/132 [==============================] - 0s 91us/step - loss: 1.2249 - acc: 0.5152\n",
      "Epoch 43/100\n",
      "132/132 [==============================] - 0s 60us/step - loss: 1.2135 - acc: 0.5152\n",
      "Epoch 44/100\n",
      "132/132 [==============================] - 0s 53us/step - loss: 1.2016 - acc: 0.5379\n",
      "Epoch 45/100\n",
      "132/132 [==============================] - 0s 113us/step - loss: 1.1919 - acc: 0.5606\n",
      "Epoch 46/100\n",
      "132/132 [==============================] - 0s 60us/step - loss: 1.1822 - acc: 0.5833\n",
      "Epoch 47/100\n",
      "132/132 [==============================] - 0s 68us/step - loss: 1.1712 - acc: 0.5909\n",
      "Epoch 48/100\n",
      "132/132 [==============================] - 0s 98us/step - loss: 1.1611 - acc: 0.5909\n",
      "Epoch 49/100\n",
      "132/132 [==============================] - 0s 68us/step - loss: 1.1506 - acc: 0.5909\n",
      "Epoch 50/100\n",
      "132/132 [==============================] - 0s 68us/step - loss: 1.1408 - acc: 0.5985\n",
      "Epoch 51/100\n",
      "132/132 [==============================] - 0s 113us/step - loss: 1.1306 - acc: 0.6136\n",
      "Epoch 52/100\n",
      "132/132 [==============================] - 0s 76us/step - loss: 1.1199 - acc: 0.6136\n",
      "Epoch 53/100\n",
      "132/132 [==============================] - 0s 60us/step - loss: 1.1091 - acc: 0.6212\n",
      "Epoch 54/100\n",
      "132/132 [==============================] - 0s 136us/step - loss: 1.0977 - acc: 0.6439\n",
      "Epoch 55/100\n",
      "132/132 [==============================] - 0s 60us/step - loss: 1.0862 - acc: 0.6515\n",
      "Epoch 56/100\n",
      "132/132 [==============================] - 0s 83us/step - loss: 1.0740 - acc: 0.6742\n",
      "Epoch 57/100\n",
      "132/132 [==============================] - 0s 68us/step - loss: 1.0647 - acc: 0.6818\n",
      "Epoch 58/100\n",
      "132/132 [==============================] - 0s 68us/step - loss: 1.0558 - acc: 0.6818\n",
      "Epoch 59/100\n",
      "132/132 [==============================] - 0s 68us/step - loss: 1.0454 - acc: 0.6970\n",
      "Epoch 60/100\n",
      "132/132 [==============================] - 0s 91us/step - loss: 1.0358 - acc: 0.7121\n",
      "Epoch 61/100\n",
      "132/132 [==============================] - 0s 76us/step - loss: 1.0255 - acc: 0.7273\n",
      "Epoch 62/100\n",
      "132/132 [==============================] - 0s 68us/step - loss: 1.0170 - acc: 0.7273\n",
      "Epoch 63/100\n",
      "132/132 [==============================] - 0s 83us/step - loss: 1.0079 - acc: 0.7273\n",
      "Epoch 64/100\n",
      "132/132 [==============================] - 0s 68us/step - loss: 0.9987 - acc: 0.7197\n",
      "Epoch 65/100\n",
      "132/132 [==============================] - 0s 68us/step - loss: 0.9891 - acc: 0.7197\n",
      "Epoch 66/100\n",
      "132/132 [==============================] - 0s 68us/step - loss: 0.9804 - acc: 0.7197\n",
      "Epoch 67/100\n",
      "132/132 [==============================] - 0s 83us/step - loss: 0.9720 - acc: 0.7121\n",
      "Epoch 68/100\n",
      "132/132 [==============================] - 0s 60us/step - loss: 0.9637 - acc: 0.7121\n",
      "Epoch 69/100\n",
      "132/132 [==============================] - 0s 53us/step - loss: 0.9550 - acc: 0.7197\n",
      "Epoch 70/100\n",
      "132/132 [==============================] - 0s 83us/step - loss: 0.9447 - acc: 0.7273\n",
      "Epoch 71/100\n",
      "132/132 [==============================] - ETA: 0s - loss: 0.9274 - acc: 0.750 - 0s 60us/step - loss: 0.9358 - acc: 0.7273\n",
      "Epoch 72/100\n",
      "132/132 [==============================] - 0s 68us/step - loss: 0.9270 - acc: 0.7652\n",
      "Epoch 73/100\n",
      "132/132 [==============================] - 0s 68us/step - loss: 0.9180 - acc: 0.7576\n",
      "Epoch 74/100\n",
      "132/132 [==============================] - 0s 53us/step - loss: 0.9102 - acc: 0.7424\n",
      "Epoch 75/100\n",
      "132/132 [==============================] - 0s 91us/step - loss: 0.9026 - acc: 0.7424\n",
      "Epoch 76/100\n",
      "132/132 [==============================] - 0s 68us/step - loss: 0.8969 - acc: 0.7500\n",
      "Epoch 77/100\n",
      "132/132 [==============================] - 0s 53us/step - loss: 0.8892 - acc: 0.7500\n",
      "Epoch 78/100\n",
      "132/132 [==============================] - 0s 60us/step - loss: 0.8817 - acc: 0.7652\n",
      "Epoch 79/100\n",
      "132/132 [==============================] - 0s 60us/step - loss: 0.8734 - acc: 0.7652\n",
      "Epoch 80/100\n",
      "132/132 [==============================] - 0s 60us/step - loss: 0.8671 - acc: 0.7727\n",
      "Epoch 81/100\n",
      "132/132 [==============================] - 0s 68us/step - loss: 0.8590 - acc: 0.7803\n",
      "Epoch 82/100\n",
      "132/132 [==============================] - 0s 60us/step - loss: 0.8519 - acc: 0.7803\n",
      "Epoch 83/100\n",
      "132/132 [==============================] - 0s 53us/step - loss: 0.8450 - acc: 0.7727\n",
      "Epoch 84/100\n"
     ]
    },
    {
     "name": "stdout",
     "output_type": "stream",
     "text": [
      "132/132 [==============================] - 0s 68us/step - loss: 0.8388 - acc: 0.7727\n",
      "Epoch 85/100\n",
      "132/132 [==============================] - 0s 60us/step - loss: 0.8322 - acc: 0.7727\n",
      "Epoch 86/100\n",
      "132/132 [==============================] - 0s 53us/step - loss: 0.8244 - acc: 0.7803\n",
      "Epoch 87/100\n",
      "132/132 [==============================] - 0s 83us/step - loss: 0.8178 - acc: 0.7803\n",
      "Epoch 88/100\n",
      "132/132 [==============================] - 0s 83us/step - loss: 0.8112 - acc: 0.8106\n",
      "Epoch 89/100\n",
      "132/132 [==============================] - 0s 76us/step - loss: 0.8056 - acc: 0.8106\n",
      "Epoch 90/100\n",
      "132/132 [==============================] - 0s 68us/step - loss: 0.7982 - acc: 0.8030\n",
      "Epoch 91/100\n",
      "132/132 [==============================] - 0s 60us/step - loss: 0.7915 - acc: 0.8030\n",
      "Epoch 92/100\n",
      "132/132 [==============================] - 0s 60us/step - loss: 0.7849 - acc: 0.8030\n",
      "Epoch 93/100\n",
      "132/132 [==============================] - 0s 68us/step - loss: 0.7784 - acc: 0.7955\n",
      "Epoch 94/100\n",
      "132/132 [==============================] - 0s 76us/step - loss: 0.7720 - acc: 0.7879\n",
      "Epoch 95/100\n",
      "132/132 [==============================] - 0s 91us/step - loss: 0.7665 - acc: 0.7879\n",
      "Epoch 96/100\n",
      "132/132 [==============================] - 0s 76us/step - loss: 0.7600 - acc: 0.7955\n",
      "Epoch 97/100\n",
      "132/132 [==============================] - 0s 83us/step - loss: 0.7543 - acc: 0.7879\n",
      "Epoch 98/100\n",
      "132/132 [==============================] - 0s 68us/step - loss: 0.7491 - acc: 0.8030\n",
      "Epoch 99/100\n",
      "132/132 [==============================] - 0s 68us/step - loss: 0.7465 - acc: 0.7879\n",
      "Epoch 100/100\n",
      "132/132 [==============================] - 0s 68us/step - loss: 0.7414 - acc: 0.7803\n"
     ]
    },
    {
     "data": {
      "text/plain": [
       "<keras.callbacks.History at 0x1fd0b076a20>"
      ]
     },
     "execution_count": 42,
     "metadata": {},
     "output_type": "execute_result"
    }
   ],
   "source": [
    "model.fit(X_numbers,Y_onehot,epochs=100)"
   ]
  },
  {
   "cell_type": "code",
   "execution_count": 61,
   "metadata": {},
   "outputs": [
    {
     "name": "stdout",
     "output_type": "stream",
     "text": [
      "(50,)\n",
      "(1, 50)\n"
     ]
    }
   ],
   "source": [
    "#testing\n",
    "\n",
    "#providing any random texts(in lower case)\n",
    "text = \"i want to play baseball\"\n",
    "\n",
    "avg_v = avg_vector(text.split())\n",
    "print(avg_v.shape)\n",
    "avg_v= avg_v.reshape(1,50)\n",
    "print(avg_v.shape)"
   ]
  },
  {
   "cell_type": "code",
   "execution_count": 62,
   "metadata": {},
   "outputs": [],
   "source": [
    "#predicting the suitable emoji label for the given text\n",
    "\n",
    "emoji_label_predict = np.argmax(model.predict(avg_v))"
   ]
  },
  {
   "cell_type": "code",
   "execution_count": 63,
   "metadata": {},
   "outputs": [
    {
     "name": "stdout",
     "output_type": "stream",
     "text": [
      "⚾\n"
     ]
    }
   ],
   "source": [
    "#printing the predicted emoji by its label\n",
    "\n",
    "print(emoji.emojize(emoji_dict[emoji_label_predict]))"
   ]
  },
  {
   "cell_type": "code",
   "execution_count": null,
   "metadata": {},
   "outputs": [],
   "source": []
  }
 ],
 "metadata": {
  "kernelspec": {
   "display_name": "Python 3",
   "language": "python",
   "name": "python3"
  },
  "language_info": {
   "codemirror_mode": {
    "name": "ipython",
    "version": 3
   },
   "file_extension": ".py",
   "mimetype": "text/x-python",
   "name": "python",
   "nbconvert_exporter": "python",
   "pygments_lexer": "ipython3",
   "version": "3.6.6"
  }
 },
 "nbformat": 4,
 "nbformat_minor": 2
}
